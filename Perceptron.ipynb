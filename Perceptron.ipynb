{
  "nbformat": 4,
  "nbformat_minor": 0,
  "metadata": {
    "colab": {
      "name": "Perceptron.ipynb",
      "provenance": [],
      "collapsed_sections": [],
      "authorship_tag": "ABX9TyMMi7LlHiA4lVSFukpOcLfS",
      "include_colab_link": true
    },
    "kernelspec": {
      "name": "python3",
      "display_name": "Python 3"
    },
    "language_info": {
      "name": "python"
    }
  },
  "cells": [
    {
      "cell_type": "markdown",
      "metadata": {
        "id": "view-in-github",
        "colab_type": "text"
      },
      "source": [
        "<a href=\"https://colab.research.google.com/github/RaiShra1/Computer-Vision-and-Image-Processing/blob/main/Perceptron.ipynb\" target=\"_parent\"><img src=\"https://colab.research.google.com/assets/colab-badge.svg\" alt=\"Open In Colab\"/></a>"
      ]
    },
    {
      "cell_type": "code",
      "metadata": {
        "id": "GYVXFWpS75ju"
      },
      "source": [
        "import numpy as np\n",
        "import matplotlib.pyplot as plt\n",
        "import random"
      ],
      "execution_count": null,
      "outputs": []
    },
    {
      "cell_type": "code",
      "metadata": {
        "id": "6WLMDqdh78Av"
      },
      "source": [
        "x_train=np.array([(1, 1), (2,-2), (-1, -1.5), (-2, -1), (-2, 1), (1.5, -0.5)])"
      ],
      "execution_count": null,
      "outputs": []
    },
    {
      "cell_type": "code",
      "metadata": {
        "id": "lZNt_fmt7_Kf"
      },
      "source": [
        "y_train=np.array([1,-1, -1, -1, 1, 1])"
      ],
      "execution_count": null,
      "outputs": []
    },
    {
      "cell_type": "code",
      "metadata": {
        "colab": {
          "base_uri": "https://localhost:8080/",
          "height": 295
        },
        "id": "OD40WCzh8BUN",
        "outputId": "44b66518-c1b8-4674-e8e7-48ee1a0bf7a8"
      },
      "source": [
        "plt.scatter(x_train[:,0], x_train[:,1])\n",
        "plt.title('Data')\n",
        "plt.xlabel('x1')\n",
        "plt.ylabel('x2')\n",
        "plt.show()"
      ],
      "execution_count": null,
      "outputs": [
        {
          "output_type": "display_data",
          "data": {
            "image/png": "[encoded data removed]",
            "text/plain": [
              "<Figure size 432x288 with 1 Axes>"
            ]
          },
          "metadata": {
            "tags": [],
            "needs_background": "light"
          }
        }
      ]
    },
    {
      "cell_type": "code",
      "metadata": {
        "id": "w6Ti2s2FCvsu"
      },
      "source": [
        "class Perceptron(object):\n",
        "\n",
        "    def __init__(self, lr=0.1, epochs=10):\n",
        "        self.lr = lr\n",
        "        self.epochs = epochs\n",
        "\n",
        "    def fit(self, X, y):\n",
        "        \"\"\"Fit training data.\"\"\"\n",
        "        self.w= np.random.rand(1 + X.shape[1])\n",
        "        self.errors = []\n",
        "\n",
        "        for iter in range(self.epochs):\n",
        "            errors = 0\n",
        "            for x, target in zip(X, y):\n",
        "                update = self.lr * (target - self.predict(x))\n",
        "                self.w[1:] += update * x\n",
        "                self.w[0] += update\n",
        "                errors += int(update != 0.0)\n",
        "            self.errors.append(errors)\n",
        "        return self\n",
        "\n",
        "    def nn_mult(self, X):\n",
        "        return np.dot(X, self.w[1:]) + self.w[0]\n",
        "\n",
        "    def predict(self, X):\n",
        "        return np.where(self.nn_mult(X) >= 0.0, 1, -1)\n"
      ],
      "execution_count": null,
      "outputs": []
    },
    {
      "cell_type": "code",
      "metadata": {
        "colab": {
          "base_uri": "https://localhost:8080/"
        },
        "id": "ssmz1KD5EHWF",
        "outputId": "5e24ffa4-ab58-4419-e100-9f105c4da3f4"
      },
      "source": [
        "model = Perceptron()\n",
        "\n",
        "model.fit(x_train, y_train)\n"
      ],
      "execution_count": null,
      "outputs": [
        {
          "output_type": "execute_result",
          "data": {
            "text/plain": [
              "<__main__.Perceptron at 0x7f91461814d0>"
            ]
          },
          "metadata": {
            "tags": []
          },
          "execution_count": 50
        }
      ]
    },
    {
      "cell_type": "code",
      "metadata": {
        "colab": {
          "base_uri": "https://localhost:8080/"
        },
        "id": "G02bLxZwEUwd",
        "outputId": "8baa1f88-9648-4aae-f342-a2479a857018"
      },
      "source": [
        "model.predict((1, 0.5))"
      ],
      "execution_count": null,
      "outputs": [
        {
          "output_type": "execute_result",
          "data": {
            "text/plain": [
              "array(1)"
            ]
          },
          "metadata": {
            "tags": []
          },
          "execution_count": 51
        }
      ]
    },
    {
      "cell_type": "code",
      "metadata": {
        "colab": {
          "base_uri": "https://localhost:8080/"
        },
        "id": "MaWhZDUTExNN",
        "outputId": "1ee7c9dd-2eb7-4768-cb2e-8227a5559f1a"
      },
      "source": [
        "model.w"
      ],
      "execution_count": null,
      "outputs": [
        {
          "output_type": "execute_result",
          "data": {
            "text/plain": [
              "array([0.47814352, 0.15064473, 0.85645518])"
            ]
          },
          "metadata": {
            "tags": []
          },
          "execution_count": 52
        }
      ]
    },
    {
      "cell_type": "code",
      "metadata": {
        "colab": {
          "base_uri": "https://localhost:8080/",
          "height": 281
        },
        "id": "jKpXl70WE3oM",
        "outputId": "6b1c5ae5-5c5b-4299-ecbe-b41f974e61e9"
      },
      "source": [
        "plt.scatter(x_train[:,0], x_train[:,1])\n",
        "xmin, xmax = plt.xlim()\n",
        "w = model.w[1:]\n",
        "a = -w[0] / w[1]\n",
        "xx = np.linspace(xmin, xmax)\n",
        "yy = a * xx - (model.w[0]) / w[1]\n",
        "# Plot the hyperplane\n",
        "plt.plot(xx, yy, 'k-')\n",
        "plt.title('Hyperplane')\n",
        "plt.show()"
      ],
      "execution_count": null,
      "outputs": [
        {
          "output_type": "display_data",
          "data": {
            "image/png": "[encoded data removed]",
            "text/plain": [
              "<Figure size 432x288 with 1 Axes>"
            ]
          },
          "metadata": {
            "tags": [],
            "needs_background": "light"
          }
        }
      ]
    },
    {
      "cell_type": "code",
      "metadata": {
        "id": "E6QI4AywJnwU"
      },
      "source": [
        ""
      ],
      "execution_count": null,
      "outputs": []
    }
  ]
}